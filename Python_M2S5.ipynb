{
  "nbformat": 4,
  "nbformat_minor": 0,
  "metadata": {
    "colab": {
      "provenance": []
    },
    "kernelspec": {
      "name": "python3",
      "display_name": "Python 3"
    },
    "language_info": {
      "name": "python"
    }
  },
  "cells": [
    {
      "cell_type": "markdown",
      "source": [
        "# Estructuras de Control y Colecciones en Python"
      ],
      "metadata": {
        "id": "dgs63PG7YKfF"
      }
    },
    {
      "cell_type": "markdown",
      "source": [
        "Las estructuras de control y colecciones son como los semáforos y contenedores de la programación. Nos ayudan a:\n",
        "\n",
        "* Tomar decisiones (¿voy por aquí o por allá?).\n",
        "* Repetir tareas automáticamente (como un ciclo de lavado).\n",
        "* Guardar datos de forma ordenada para usarlos después."
      ],
      "metadata": {
        "id": "Hs8Jq3TMYL6C"
      }
    },
    {
      "cell_type": "markdown",
      "source": [
        "# 1.  Estructuras de Control: if, for, while\n",
        "\n"
      ],
      "metadata": {
        "id": "mLHGuVu-YU5E"
      }
    },
    {
      "cell_type": "markdown",
      "source": [
        "**if** (Condicionales) : Sirve para tomar decisiones."
      ],
      "metadata": {
        "id": "VqyPZBjVYfoi"
      }
    },
    {
      "cell_type": "code",
      "source": [
        "edad = 18\n",
        "if edad >= 18:\n",
        "    print(\"Eres mayor de edad\")\n",
        "else:\n",
        "    print(\"Eres menor de edad\")"
      ],
      "metadata": {
        "id": "wI6p4CnKYjzE"
      },
      "execution_count": null,
      "outputs": []
    },
    {
      "cell_type": "markdown",
      "source": [
        "Explicación paso a paso:\n",
        "\n",
        "* Si la condición (edad >= 18) se cumple, ejecuta lo que está dentro del if.\n",
        "* Si no, va al else."
      ],
      "metadata": {
        "id": "1FQJksCDYnAH"
      }
    },
    {
      "cell_type": "markdown",
      "source": [
        "**for** (Ciclo controlado): Sirve para repetir algo una cantidad conocida de veces."
      ],
      "metadata": {
        "id": "Rac_gobFYr6C"
      }
    },
    {
      "cell_type": "code",
      "source": [
        "nombres = [\"Ana\", \"Luis\", \"Carlos\"]\n",
        "for nombre in nombres:\n",
        "    print(\"Hola\", nombre)"
      ],
      "metadata": {
        "id": "kwm1oFcPYwz5"
      },
      "execution_count": null,
      "outputs": []
    },
    {
      "cell_type": "markdown",
      "source": [
        "explicación:\n",
        "\n",
        "+ Toma cada nombre de la lista y lo imprime.\n",
        "+ Ideal para recorrer listas o rangos"
      ],
      "metadata": {
        "id": "RmZfguBqYzAT"
      }
    },
    {
      "cell_type": "markdown",
      "source": [
        "**while** (Ciclo con condición) : Repite mientras una condición sea verdadera."
      ],
      "metadata": {
        "id": "Ud4lhpTlY7pK"
      }
    },
    {
      "cell_type": "code",
      "source": [
        "contador = 1\n",
        "while contador <= 3:\n",
        "    print(\"Vuelta\", contador)\n",
        "    contador += 1"
      ],
      "metadata": {
        "id": "WiwP9AAXY_2z"
      },
      "execution_count": null,
      "outputs": []
    },
    {
      "cell_type": "markdown",
      "source": [
        "Explicación:\n",
        "\n",
        "+ Mientras contador <= 3 se cumpla, ejecuta el bloque.\n",
        "+ ¡Cuidado con no olvidar el contador += 1! Si no, el ciclo nunca termina."
      ],
      "metadata": {
        "id": "5HtS_PNUZCTC"
      }
    },
    {
      "cell_type": "markdown",
      "source": [
        "# 2.  Tipos de Colecciones en Python"
      ],
      "metadata": {
        "id": "Tv67W19vZLDD"
      }
    },
    {
      "cell_type": "markdown",
      "source": [
        "![image.png](data:image/png;base64,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)"
      ],
      "metadata": {
        "id": "7JZPRPStZUW3"
      }
    },
    {
      "cell_type": "code",
      "source": [
        "estudiante = {\n",
        "    \"nombre\": \"Carlos\",\n",
        "    \"edad\": 21,\n",
        "    \"materias\": [\"Matemáticas\", \"Física\"]\n",
        "}\n",
        "\n",
        "print(estudiante[\"nombre\"])  # Carlos\n",
        "print(len(estudiante[\"materias\"]))  # 2"
      ],
      "metadata": {
        "id": "l2fnNWdAZYMU"
      },
      "execution_count": null,
      "outputs": []
    },
    {
      "cell_type": "markdown",
      "source": [
        "# Ejercicios!!!!"
      ],
      "metadata": {
        "id": "zGuK4T1YZbhU"
      }
    },
    {
      "cell_type": "markdown",
      "source": [
        "1.  Escribe un programa que reciba una calificación y diga si el alumno aprobó (>=6) o reprobó.\n",
        "2.  Crea una lista con 5 frutas y usa un ciclo for para imprimir: \"Me gusta la fruta: [fruta]\".\n",
        "3.  Crea un diccionario que guarde el nombre, edad y carrera de un estudiante. Imprime solo el nombre."
      ],
      "metadata": {
        "id": "WrZ-iT7uZc62"
      }
    },
    {
      "cell_type": "markdown",
      "source": [
        "# Ejemplo: Registro de asistencia con control y colecciones\n",
        "\n",
        "---\n",
        "\n"
      ],
      "metadata": {
        "id": "oWL2nm2OZ-Po"
      }
    },
    {
      "cell_type": "markdown",
      "source": [
        "Queremos registrar la asistencia de estudiantes a una clase, verificar si están en una lista predefinida de alumnos inscritos, y al final mostrar un resumen de quién asistió y quién no."
      ],
      "metadata": {
        "id": "nIMHPtElaFUi"
      }
    },
    {
      "cell_type": "code",
      "source": [
        "# Tupla: alumnos inscritos (no cambia)\n",
        "alumnos_inscritos = (\"Ana\", \"Luis\", \"Carlos\", \"Marta\")\n",
        "\n",
        "# Lista: asistencias registradas\n",
        "asistencias = []\n",
        "\n",
        "# Set: para evitar duplicados\n",
        "asistentes_unicos = set()\n",
        "\n",
        "# Ciclo while: permite registrar 3 asistencias\n",
        "contador = 0\n",
        "while contador < 3:\n",
        "    nombre = input(\"Ingresa tu nombre: \")\n",
        "\n",
        "    # Condicional: verifica si el alumno está inscrito\n",
        "    if nombre in alumnos_inscritos:\n",
        "        print(\"✅ Asistencia registrada\")\n",
        "        asistencias.append(nombre)\n",
        "        asistentes_unicos.add(nombre)\n",
        "    else:\n",
        "        print(\"❌ Nombre no registrado\")\n",
        "\n",
        "    contador += 1\n",
        "\n",
        "# Diccionario: resumen final\n",
        "resumen_asistencia = {\n",
        "    \"Total registrados\": len(asistencias),\n",
        "    \"Alumnos únicos que asistieron\": list(asistentes_unicos),\n",
        "    \"Faltantes\": [alumno for alumno in alumnos_inscritos if alumno not in asistentes_unicos]\n",
        "}\n",
        "\n",
        "# Ciclo for: imprimir resumen\n",
        "print(\"\\n📋 Resumen de asistencia:\")\n",
        "for clave, valor in resumen_asistencia.items():\n",
        "    print(f\"{clave}: {valor}\")\n"
      ],
      "metadata": {
        "id": "m7OuqknMaJtU"
      },
      "execution_count": null,
      "outputs": []
    },
    {
      "cell_type": "markdown",
      "source": [
        "# Ejemplo: Tiendita de dulces"
      ],
      "metadata": {
        "id": "PmsHkOdHaoJF"
      }
    },
    {
      "cell_type": "markdown",
      "source": [
        "Queremos simular una pequeña tiendita donde los estudiantes pueden comprar dulces. Vamos a mostrar un menú de productos, permitir que compren varios artículos, validar si el producto existe y al final mostrar un resumen de la compra."
      ],
      "metadata": {
        "id": "UFxhAgBsapm_"
      }
    },
    {
      "cell_type": "code",
      "source": [
        "# Tupla: productos disponibles (no cambia)\n",
        "productos_disponibles = (\"Gomitas\", \"Chicles\", \"Paleta\", \"Chocolate\")\n",
        "\n",
        "# Diccionario: precios\n",
        "precios = {\n",
        "    \"Gomitas\": 5,\n",
        "    \"Chicles\": 3,\n",
        "    \"Paleta\": 4,\n",
        "    \"Chocolate\": 10\n",
        "}\n",
        "\n",
        "# Lista para registrar lo comprado\n",
        "carrito = []\n",
        "\n",
        "# Set para saber qué productos distintos se compraron\n",
        "productos_comprados = set()\n",
        "\n",
        "# Ciclo while: el estudiante puede comprar hasta 3 veces\n",
        "compras_realizadas = 0\n",
        "while compras_realizadas < 3:\n",
        "    print(\"\\n📦 Productos disponibles:\")\n",
        "    for producto in productos_disponibles:\n",
        "        print(f\"- {producto} (${precios[producto]})\")\n",
        "\n",
        "    compra = input(\"¿Qué producto deseas comprar? \")\n",
        "\n",
        "    # Validar si el producto existe\n",
        "    if compra in productos_disponibles:\n",
        "        carrito.append(compra)\n",
        "        productos_comprados.add(compra)\n",
        "        print(f\"✅ Añadido {compra} al carrito\")\n",
        "    else:\n",
        "        print(\"❌ Producto no disponible\")\n",
        "\n",
        "    compras_realizadas += 1\n",
        "\n",
        "# Calcular total gastado\n",
        "total = 0\n",
        "for producto in carrito:\n",
        "    total += precios[producto]\n",
        "\n",
        "# Diccionario resumen\n",
        "resumen_compra = {\n",
        "    \"Total de artículos\": len(carrito),\n",
        "    \"Productos distintos\": list(productos_comprados),\n",
        "    \"Total gastado ($)\": total\n",
        "}\n",
        "\n",
        "# Mostrar resumen\n",
        "print(\"\\n🧾 Resumen de tu compra:\")\n",
        "for clave, valor in resumen_compra.items():\n",
        "    print(f\"{clave}: {valor}\")\n"
      ],
      "metadata": {
        "id": "cVmhRZkratnG"
      },
      "execution_count": null,
      "outputs": []
    }
  ]
}